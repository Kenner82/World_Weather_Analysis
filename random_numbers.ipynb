{
 "cells": [
  {
   "cell_type": "code",
   "execution_count": 1,
   "id": "1d991a94",
   "metadata": {},
   "outputs": [],
   "source": [
    "# Import the random module.\n",
    "import random"
   ]
  },
  {
   "cell_type": "code",
   "execution_count": 26,
   "id": "bcfba8dd",
   "metadata": {},
   "outputs": [
    {
     "data": {
      "text/plain": [
       "63"
      ]
     },
     "execution_count": 26,
     "metadata": {},
     "output_type": "execute_result"
    }
   ],
   "source": [
    "random.randint(-90,90)"
   ]
  },
  {
   "cell_type": "code",
   "execution_count": 18,
   "id": "da2175dc",
   "metadata": {},
   "outputs": [
    {
     "data": {
      "text/plain": [
       "0.4043371563310445"
      ]
     },
     "execution_count": 18,
     "metadata": {},
     "output_type": "execute_result"
    }
   ],
   "source": [
    "random.random()"
   ]
  },
  {
   "cell_type": "code",
   "execution_count": 28,
   "id": "2a6aa4fb",
   "metadata": {},
   "outputs": [
    {
     "data": {
      "text/plain": [
       "[-17.053013165313118,\n",
       " -17.455509590567733,\n",
       " -18.544079124798486,\n",
       " -28.068315247955535,\n",
       " -37.604502604436355,\n",
       " -45.51231481016728,\n",
       " 65.34598076984697,\n",
       " 71.31961405896803,\n",
       " -72.37676645148404,\n",
       " -6.22519166201471]"
      ]
     },
     "execution_count": 28,
     "metadata": {},
     "output_type": "execute_result"
    }
   ],
   "source": [
    "x = 1\n",
    "latitudes = []\n",
    "while x < 11:\n",
    "    random_lat = random.randint(-90, 89) + random.random()\n",
    "    latitudes.append(random_lat)\n",
    "    x += 1\n",
    "    \n",
    "latitudes"
   ]
  },
  {
   "cell_type": "code",
   "execution_count": 29,
   "id": "43cbdb8d",
   "metadata": {},
   "outputs": [
    {
     "data": {
      "text/plain": [
       "-90"
      ]
     },
     "execution_count": 29,
     "metadata": {},
     "output_type": "execute_result"
    }
   ],
   "source": [
    "random.randrange(-90, 90, step=1)"
   ]
  },
  {
   "cell_type": "code",
   "execution_count": 32,
   "id": "be529244",
   "metadata": {},
   "outputs": [
    {
     "data": {
      "text/plain": [
       "30"
      ]
     },
     "execution_count": 32,
     "metadata": {},
     "output_type": "execute_result"
    }
   ],
   "source": [
    "random.randrange(-90, 90, step=3)"
   ]
  },
  {
   "cell_type": "code",
   "execution_count": 33,
   "id": "228da88d",
   "metadata": {},
   "outputs": [
    {
     "data": {
      "text/plain": [
       "77.57462517685829"
      ]
     },
     "execution_count": 33,
     "metadata": {},
     "output_type": "execute_result"
    }
   ],
   "source": [
    "random.uniform(-90, 90)"
   ]
  },
  {
   "cell_type": "code",
   "execution_count": 34,
   "id": "72db888a",
   "metadata": {},
   "outputs": [],
   "source": [
    "# Import the NumPy module.\n",
    "import numpy as np"
   ]
  },
  {
   "cell_type": "code",
   "execution_count": 35,
   "id": "2b170420",
   "metadata": {},
   "outputs": [
    {
     "data": {
      "text/plain": [
       "24.39017735750933"
      ]
     },
     "execution_count": 35,
     "metadata": {},
     "output_type": "execute_result"
    }
   ],
   "source": [
    "np.random.uniform(-90.000, 90.000)"
   ]
  },
  {
   "cell_type": "code",
   "execution_count": 36,
   "id": "4f51e19d",
   "metadata": {},
   "outputs": [
    {
     "data": {
      "text/plain": [
       "array([ 8.47856455e+01,  3.47305196e+01,  8.02967861e+01, -6.28016608e+01,\n",
       "        6.08594731e+01, -8.35025935e-03, -7.42934750e+01, -4.59956762e+01,\n",
       "       -2.02044399e+01, -7.76817172e+01, -4.85703266e+01, -4.14389574e+01,\n",
       "        7.84467800e+01, -6.77197044e+01,  7.90236085e+01,  1.06526252e+01,\n",
       "        8.57329002e+01,  2.87613703e+01,  6.66825554e+00,  7.83125040e+01,\n",
       "        1.75118836e+01, -8.00831076e+01,  1.35340734e+01,  8.85665280e+01,\n",
       "        4.16831538e+01,  1.58793880e+01, -6.15015759e+01,  6.32940729e+01,\n",
       "        5.05720184e+00,  2.99522728e-01, -2.54661576e+01,  3.39397488e+01,\n",
       "        7.61996294e+01,  7.18963390e+01, -5.52472812e+01,  4.74584136e+01,\n",
       "        8.92582409e+01, -3.54984505e+01,  7.93884299e+01,  9.79237990e+00,\n",
       "       -5.15617708e+01,  7.77910434e+01,  8.34657619e+01, -2.01937944e+01,\n",
       "        7.09318327e+01,  4.26718557e+01, -7.96050158e+01, -7.12723936e+01,\n",
       "       -7.05774885e+01, -5.17144448e+01])"
      ]
     },
     "execution_count": 36,
     "metadata": {},
     "output_type": "execute_result"
    }
   ],
   "source": [
    "np.random.uniform(-90.000, 90.000, size=50)"
   ]
  },
  {
   "cell_type": "code",
   "execution_count": null,
   "id": "53910b6c",
   "metadata": {},
   "outputs": [],
   "source": [
    "# Import timeit.\n",
    "import timeit\n"
   ]
  },
  {
   "cell_type": "code",
   "execution_count": 37,
   "id": "46c4a22d",
   "metadata": {},
   "outputs": [
    {
     "name": "stdout",
     "output_type": "stream",
     "text": [
      "34 µs ± 159 ns per loop (mean ± std. dev. of 7 runs, 10000 loops each)\n"
     ]
    }
   ],
   "source": [
    "%timeit np.random.uniform(-90.000, 90.000, size=1500)"
   ]
  },
  {
   "cell_type": "code",
   "execution_count": 38,
   "id": "9078fd2f",
   "metadata": {},
   "outputs": [
    {
     "name": "stdout",
     "output_type": "stream",
     "text": [
      "4.08 ms ± 9.57 µs per loop (mean ± std. dev. of 7 runs, 100 loops each)\n"
     ]
    }
   ],
   "source": [
    "def latitudes(size):\n",
    "    latitudes = []\n",
    "    x = 0\n",
    "    while x < (size):\n",
    "        random_lat = random.randint(-90, 90) + random.random()\n",
    "        latitudes.append(random_lat)\n",
    "        x += 1\n",
    "    return latitudes\n",
    "# Call the function with 1500.\n",
    "%timeit latitudes(1500)"
   ]
  },
  {
   "cell_type": "code",
   "execution_count": null,
   "id": "add6aff1",
   "metadata": {},
   "outputs": [],
   "source": []
  },
  {
   "cell_type": "code",
   "execution_count": null,
   "id": "9f4b1b5c",
   "metadata": {},
   "outputs": [],
   "source": []
  },
  {
   "cell_type": "code",
   "execution_count": null,
   "id": "9e872706",
   "metadata": {},
   "outputs": [],
   "source": []
  },
  {
   "cell_type": "code",
   "execution_count": null,
   "id": "69ce6582",
   "metadata": {},
   "outputs": [],
   "source": []
  },
  {
   "cell_type": "code",
   "execution_count": null,
   "id": "64f51c23",
   "metadata": {},
   "outputs": [],
   "source": []
  }
 ],
 "metadata": {
  "kernelspec": {
   "display_name": "PythonData",
   "language": "python",
   "name": "pythondata"
  },
  "language_info": {
   "codemirror_mode": {
    "name": "ipython",
    "version": 3
   },
   "file_extension": ".py",
   "mimetype": "text/x-python",
   "name": "python",
   "nbconvert_exporter": "python",
   "pygments_lexer": "ipython3",
   "version": "3.7.13"
  }
 },
 "nbformat": 4,
 "nbformat_minor": 5
}
